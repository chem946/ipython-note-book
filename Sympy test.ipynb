{
 "metadata": {
  "name": "",
  "signature": "sha256:2f868f06fbf878d75c74db6a0e7153785061fb2080a0f04ca84f28519c1a0d77"
 },
 "nbformat": 3,
 "nbformat_minor": 0,
 "worksheets": [
  {
   "cells": [
    {
     "cell_type": "code",
     "collapsed": false,
     "input": [
      "from sympy import init_printing\n",
      "init_printing()\n",
      "from sympy import var,Eq,solve\n",
      "var('a:z')#\u666e\u901a\u306e\u5c0f\u6587\u5b57\u306ea\u304b\u3089z\u306f\u5168\u3066sympy\u306e\u30b7\u30f3\u30dc\u30eb\uff08\u5909\u6570\uff09\u3068\u3057\u3066\u6271\u3046\u3053\u3068\u306b\u3057\u307e\u3057\u305f\u3002\n",
      "eq1=Eq(a*x**2+b*x+c,0) #\uff12\u6b21\u65b9\u7a0b\u5f0f\u306e\u5f0f\n",
      "ans1= solve(eq1,x)     #\u89e3\u3092\u6c42\u3081\u308b\n",
      "ans1"
     ],
     "language": "python",
     "metadata": {},
     "outputs": [
      {
       "latex": [
        "$$\\left [ \\frac{1}{2 a} \\left(- b + \\sqrt{- 4 a c + b^{2}}\\right), \\quad - \\frac{1}{2 a} \\left(b + \\sqrt{- 4 a c + b^{2}}\\right)\\right ]$$"
       ],
       "metadata": {},
       "output_type": "pyout",
       "png": "[encoded data removed]",
       "prompt_number": 1,
       "text": [
        "\u23a1        _____________   \u239b       _____________\u239e \u23a4\n",
        "\u23a2       \u2571           2    \u239c      \u2571           2 \u239f \u23a5\n",
        "\u23a2-b + \u2572\u2571  -4\u22c5a\u22c5c + b    -\u239db + \u2572\u2571  -4\u22c5a\u22c5c + b  \u23a0 \u23a5\n",
        "\u23a2\u2500\u2500\u2500\u2500\u2500\u2500\u2500\u2500\u2500\u2500\u2500\u2500\u2500\u2500\u2500\u2500\u2500\u2500\u2500\u2500\u2500, \u2500\u2500\u2500\u2500\u2500\u2500\u2500\u2500\u2500\u2500\u2500\u2500\u2500\u2500\u2500\u2500\u2500\u2500\u2500\u2500\u2500\u2500\u2500\u2500\u23a5\n",
        "\u23a3         2\u22c5a                     2\u22c5a           \u23a6"
       ]
      }
     ],
     "prompt_number": 1
    },
    {
     "cell_type": "code",
     "collapsed": false,
     "input": [],
     "language": "python",
     "metadata": {},
     "outputs": []
    }
   ],
   "metadata": {}
  }
 ]
}